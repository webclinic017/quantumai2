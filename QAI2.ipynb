{
 "cells": [
  {
   "cell_type": "code",
   "execution_count": 15,
   "metadata": {},
   "outputs": [],
   "source": [
    "import gymnasium as gym\n",
    "import pandas as pd\n",
    "import numpy as np\n",
    "from stable_baselines3 import A2C\n",
    "from env.flo_portfolio import FlorianPortfolioEnv\n",
    "from stable_baselines3.common.env_checker import check_env\n",
    "from stable_baselines3.common.callbacks import ProgressBarCallback,CallbackList, EvalCallback\n",
    "from models.callbacks import CustomCallBack, HParamCallback\n",
    "from gymnasium import spaces"
   ]
  },
  {
   "cell_type": "code",
   "execution_count": null,
   "metadata": {},
   "outputs": [],
   "source": []
  },
  {
   "cell_type": "code",
   "execution_count": 2,
   "metadata": {},
   "outputs": [
    {
     "data": {
      "text/html": [
       "<div>\n",
       "<style scoped>\n",
       "    .dataframe tbody tr th:only-of-type {\n",
       "        vertical-align: middle;\n",
       "    }\n",
       "\n",
       "    .dataframe tbody tr th {\n",
       "        vertical-align: top;\n",
       "    }\n",
       "\n",
       "    .dataframe thead th {\n",
       "        text-align: right;\n",
       "    }\n",
       "</style>\n",
       "<table border=\"1\" class=\"dataframe\">\n",
       "  <thead>\n",
       "    <tr style=\"text-align: right;\">\n",
       "      <th></th>\n",
       "      <th>date</th>\n",
       "      <th>close</th>\n",
       "      <th>open</th>\n",
       "      <th>low</th>\n",
       "      <th>high</th>\n",
       "      <th>RSI14</th>\n",
       "      <th>RSI30</th>\n",
       "      <th>RSI3</th>\n",
       "      <th>MA200</th>\n",
       "      <th>MA50</th>\n",
       "      <th>MA20</th>\n",
       "      <th>tic</th>\n",
       "    </tr>\n",
       "  </thead>\n",
       "  <tbody>\n",
       "    <tr>\n",
       "      <th>1</th>\n",
       "      <td>1990-01-03</td>\n",
       "      <td>358.76</td>\n",
       "      <td>359.66</td>\n",
       "      <td>357.89</td>\n",
       "      <td>360.59</td>\n",
       "      <td>64.92</td>\n",
       "      <td>65.48</td>\n",
       "      <td>88.64</td>\n",
       "      <td>332.20</td>\n",
       "      <td>344.28</td>\n",
       "      <td>349.39</td>\n",
       "      <td>SPX</td>\n",
       "    </tr>\n",
       "    <tr>\n",
       "      <th>2</th>\n",
       "      <td>1990-01-04</td>\n",
       "      <td>355.67</td>\n",
       "      <td>358.74</td>\n",
       "      <td>352.89</td>\n",
       "      <td>358.76</td>\n",
       "      <td>58.72</td>\n",
       "      <td>61.98</td>\n",
       "      <td>56.59</td>\n",
       "      <td>332.52</td>\n",
       "      <td>344.49</td>\n",
       "      <td>349.69</td>\n",
       "      <td>SPX</td>\n",
       "    </tr>\n",
       "    <tr>\n",
       "      <th>3</th>\n",
       "      <td>1990-01-05</td>\n",
       "      <td>352.20</td>\n",
       "      <td>355.65</td>\n",
       "      <td>351.35</td>\n",
       "      <td>355.67</td>\n",
       "      <td>52.64</td>\n",
       "      <td>58.36</td>\n",
       "      <td>35.17</td>\n",
       "      <td>332.83</td>\n",
       "      <td>344.66</td>\n",
       "      <td>349.88</td>\n",
       "      <td>SPX</td>\n",
       "    </tr>\n",
       "    <tr>\n",
       "      <th>4</th>\n",
       "      <td>1990-01-08</td>\n",
       "      <td>353.79</td>\n",
       "      <td>352.19</td>\n",
       "      <td>350.54</td>\n",
       "      <td>354.24</td>\n",
       "      <td>54.94</td>\n",
       "      <td>59.48</td>\n",
       "      <td>48.55</td>\n",
       "      <td>333.16</td>\n",
       "      <td>344.89</td>\n",
       "      <td>350.19</td>\n",
       "      <td>SPX</td>\n",
       "    </tr>\n",
       "    <tr>\n",
       "      <th>5</th>\n",
       "      <td>1990-01-09</td>\n",
       "      <td>349.62</td>\n",
       "      <td>353.83</td>\n",
       "      <td>349.61</td>\n",
       "      <td>354.17</td>\n",
       "      <td>48.31</td>\n",
       "      <td>55.43</td>\n",
       "      <td>26.79</td>\n",
       "      <td>333.45</td>\n",
       "      <td>345.12</td>\n",
       "      <td>350.23</td>\n",
       "      <td>SPX</td>\n",
       "    </tr>\n",
       "    <tr>\n",
       "      <th>...</th>\n",
       "      <td>...</td>\n",
       "      <td>...</td>\n",
       "      <td>...</td>\n",
       "      <td>...</td>\n",
       "      <td>...</td>\n",
       "      <td>...</td>\n",
       "      <td>...</td>\n",
       "      <td>...</td>\n",
       "      <td>...</td>\n",
       "      <td>...</td>\n",
       "      <td>...</td>\n",
       "      <td>...</td>\n",
       "    </tr>\n",
       "    <tr>\n",
       "      <th>8450</th>\n",
       "      <td>2023-07-19</td>\n",
       "      <td>4565.72</td>\n",
       "      <td>4563.87</td>\n",
       "      <td>4557.48</td>\n",
       "      <td>4578.43</td>\n",
       "      <td>75.00</td>\n",
       "      <td>67.61</td>\n",
       "      <td>94.86</td>\n",
       "      <td>4043.67</td>\n",
       "      <td>4311.72</td>\n",
       "      <td>4435.98</td>\n",
       "      <td>SPX</td>\n",
       "    </tr>\n",
       "    <tr>\n",
       "      <th>8451</th>\n",
       "      <td>2023-07-20</td>\n",
       "      <td>4534.87</td>\n",
       "      <td>4554.38</td>\n",
       "      <td>4527.56</td>\n",
       "      <td>4564.74</td>\n",
       "      <td>67.94</td>\n",
       "      <td>64.81</td>\n",
       "      <td>53.04</td>\n",
       "      <td>4048.41</td>\n",
       "      <td>4319.65</td>\n",
       "      <td>4444.44</td>\n",
       "      <td>SPX</td>\n",
       "    </tr>\n",
       "    <tr>\n",
       "      <th>8452</th>\n",
       "      <td>2023-07-21</td>\n",
       "      <td>4536.34</td>\n",
       "      <td>4550.16</td>\n",
       "      <td>4535.79</td>\n",
       "      <td>4555.00</td>\n",
       "      <td>68.09</td>\n",
       "      <td>64.88</td>\n",
       "      <td>54.47</td>\n",
       "      <td>4052.70</td>\n",
       "      <td>4327.99</td>\n",
       "      <td>4452.17</td>\n",
       "      <td>SPX</td>\n",
       "    </tr>\n",
       "    <tr>\n",
       "      <th>8453</th>\n",
       "      <td>2023-07-24</td>\n",
       "      <td>4554.64</td>\n",
       "      <td>4543.39</td>\n",
       "      <td>4541.29</td>\n",
       "      <td>4563.41</td>\n",
       "      <td>70.02</td>\n",
       "      <td>65.78</td>\n",
       "      <td>71.01</td>\n",
       "      <td>4056.52</td>\n",
       "      <td>4336.33</td>\n",
       "      <td>4462.48</td>\n",
       "      <td>SPX</td>\n",
       "    </tr>\n",
       "    <tr>\n",
       "      <th>8454</th>\n",
       "      <td>2023-07-25</td>\n",
       "      <td>4576.77</td>\n",
       "      <td>4555.19</td>\n",
       "      <td>4552.42</td>\n",
       "      <td>4580.62</td>\n",
       "      <td>72.22</td>\n",
       "      <td>66.84</td>\n",
       "      <td>82.52</td>\n",
       "      <td>4060.49</td>\n",
       "      <td>4345.26</td>\n",
       "      <td>4474.88</td>\n",
       "      <td>SPX</td>\n",
       "    </tr>\n",
       "  </tbody>\n",
       "</table>\n",
       "<p>8454 rows × 12 columns</p>\n",
       "</div>"
      ],
      "text/plain": [
       "            date    close     open      low     high  RSI14  RSI30   RSI3  \\\n",
       "1     1990-01-03   358.76   359.66   357.89   360.59  64.92  65.48  88.64   \n",
       "2     1990-01-04   355.67   358.74   352.89   358.76  58.72  61.98  56.59   \n",
       "3     1990-01-05   352.20   355.65   351.35   355.67  52.64  58.36  35.17   \n",
       "4     1990-01-08   353.79   352.19   350.54   354.24  54.94  59.48  48.55   \n",
       "5     1990-01-09   349.62   353.83   349.61   354.17  48.31  55.43  26.79   \n",
       "...          ...      ...      ...      ...      ...    ...    ...    ...   \n",
       "8450  2023-07-19  4565.72  4563.87  4557.48  4578.43  75.00  67.61  94.86   \n",
       "8451  2023-07-20  4534.87  4554.38  4527.56  4564.74  67.94  64.81  53.04   \n",
       "8452  2023-07-21  4536.34  4550.16  4535.79  4555.00  68.09  64.88  54.47   \n",
       "8453  2023-07-24  4554.64  4543.39  4541.29  4563.41  70.02  65.78  71.01   \n",
       "8454  2023-07-25  4576.77  4555.19  4552.42  4580.62  72.22  66.84  82.52   \n",
       "\n",
       "        MA200     MA50     MA20  tic  \n",
       "1      332.20   344.28   349.39  SPX  \n",
       "2      332.52   344.49   349.69  SPX  \n",
       "3      332.83   344.66   349.88  SPX  \n",
       "4      333.16   344.89   350.19  SPX  \n",
       "5      333.45   345.12   350.23  SPX  \n",
       "...       ...      ...      ...  ...  \n",
       "8450  4043.67  4311.72  4435.98  SPX  \n",
       "8451  4048.41  4319.65  4444.44  SPX  \n",
       "8452  4052.70  4327.99  4452.17  SPX  \n",
       "8453  4056.52  4336.33  4462.48  SPX  \n",
       "8454  4060.49  4345.26  4474.88  SPX  \n",
       "\n",
       "[8454 rows x 12 columns]"
      ]
     },
     "execution_count": 2,
     "metadata": {},
     "output_type": "execute_result"
    }
   ],
   "source": [
    "df = pd.read_csv('/Users/floriankockler/My Drive/SPX_2.csv', skiprows=6).dropna(axis=0)\n",
    "df['date'] = pd.to_datetime(df['date']).dt.strftime('%Y-%m-%d')\n",
    "df"
   ]
  },
  {
   "cell_type": "code",
   "execution_count": 3,
   "metadata": {},
   "outputs": [],
   "source": [
    "train_start = \"1990-01-03\"\n",
    "train_end = \"2015-12-31\""
   ]
  },
  {
   "cell_type": "code",
   "execution_count": null,
   "metadata": {},
   "outputs": [],
   "source": []
  },
  {
   "cell_type": "code",
   "execution_count": 4,
   "metadata": {},
   "outputs": [],
   "source": [
    "def data_split(df, start, end, target_date_col=\"date\"):\n",
    "    data = df[(df[target_date_col] >= start) & (df[target_date_col] < end)]\n",
    "    data = data.sort_values([target_date_col, \"tic\"], ignore_index=True)\n",
    "    data.index = data[target_date_col].factorize()[0]\n",
    "    return data"
   ]
  },
  {
   "cell_type": "code",
   "execution_count": 5,
   "metadata": {},
   "outputs": [],
   "source": [
    "train = data_split(df, train_start, train_end)"
   ]
  },
  {
   "cell_type": "code",
   "execution_count": 6,
   "metadata": {},
   "outputs": [],
   "source": [
    "stock_dimension = len(train.tic.unique())\n",
    "state_space = stock_dimension"
   ]
  },
  {
   "cell_type": "code",
   "execution_count": 7,
   "metadata": {},
   "outputs": [
    {
     "data": {
      "text/plain": [
       "Index(['date', 'close', 'open', 'low', 'high', 'RSI14', 'RSI30', 'RSI3',\n",
       "       'MA200', 'MA50', 'MA20', 'tic'],\n",
       "      dtype='object')"
      ]
     },
     "execution_count": 7,
     "metadata": {},
     "output_type": "execute_result"
    }
   ],
   "source": [
    "df.columns"
   ]
  },
  {
   "cell_type": "code",
   "execution_count": 12,
   "metadata": {},
   "outputs": [
    {
     "data": {
      "text/plain": [
       "1"
      ]
     },
     "execution_count": 12,
     "metadata": {},
     "output_type": "execute_result"
    }
   ],
   "source": [
    "stock_dimension"
   ]
  },
  {
   "cell_type": "code",
   "execution_count": 16,
   "metadata": {},
   "outputs": [
    {
     "data": {
      "text/plain": [
       "Box(-inf, inf, (1,), float32)"
      ]
     },
     "execution_count": 16,
     "metadata": {},
     "output_type": "execute_result"
    }
   ],
   "source": [
    "indicators = ['RSI14', 'RSI30', 'RSI3','MA200', 'MA50', 'MA20','open', 'low', 'high']\n",
    "env_kwargs = {\n",
    "    \"initial_amount\": 1000000, \n",
    "    \"trade_cost_pct\": 0.001, \n",
    "    \"state_space\": (state_space+len(indicators)), \n",
    "    \"stock_dim\": stock_dimension,\n",
    "    # \"eco_indicator_list\": eco_indicator_list, \n",
    "    # \"tech_indicator_list\": new_tech_indics, \n",
    "    \"indicators\": indicators, \n",
    "    # \"tech_indicator_list\": config.INDICATORS, \n",
    "    \"action_space\": (stock_dimension+len(indicators)),\n",
    "    \"short_selling_allowed\": False,\n",
    "    \"take_leverage_allowed\": False,\n",
    "    ## FINE TUNING NEEDED\n",
    "    \"reward_scaling\": 1e-4, # the magnitude of rewards can significantly affect the learning process. If the rewards are too large, they can cause the learning algorithm to become unstable. On the other hand, if the rewards are too small, the agent might not learn effectively because the rewards don't provide a strong enough signal.\n",
    "    \"hmax\": 100, #that should be increased when trading SPX\n",
    "\n",
    "    # Not for optimization\n",
    "    \"make_plots\": False,\n",
    "    \"num_stock_shares\": [50], #number of initioal shares\n",
    "    \"model_name\": \"A-2C\",\n",
    "    \"mode\": \"training\", #can be anything, just for plots\n",
    "    \"iteration\": \"1000\"#can be anything, just for plots\n",
    "    \n",
    "}\n",
    "\n",
    "observation_space = spaces.Box(low=-np.inf, high=np.inf, shape=(state_space,))\n",
    "observation_space\n",
    "\n"
   ]
  },
  {
   "cell_type": "code",
   "execution_count": 17,
   "metadata": {},
   "outputs": [
    {
     "ename": "AssertionError",
     "evalue": "The observation returned by the `reset()` method does not match the shape of the given observation space Box(-inf, inf, (10,), float32). Expected: (10,), actual shape: (12,)",
     "output_type": "error",
     "traceback": [
      "\u001b[0;31m---------------------------------------------------------------------------\u001b[0m",
      "\u001b[0;31mAssertionError\u001b[0m                            Traceback (most recent call last)",
      "Cell \u001b[0;32mIn[17], line 3\u001b[0m\n\u001b[1;32m      1\u001b[0m \u001b[39m#initate env\u001b[39;00m\n\u001b[1;32m      2\u001b[0m env \u001b[39m=\u001b[39m FlorianPortfolioEnv(df\u001b[39m=\u001b[39mtrain, \u001b[39m*\u001b[39m\u001b[39m*\u001b[39menv_kwargs)\n\u001b[0;32m----> 3\u001b[0m check_env(env, warn\u001b[39m=\u001b[39;49m\u001b[39mTrue\u001b[39;49;00m)\n",
      "File \u001b[0;32m~/anaconda3/envs/py310/lib/python3.10/site-packages/stable_baselines3/common/env_checker.py:438\u001b[0m, in \u001b[0;36mcheck_env\u001b[0;34m(env, warn, skip_render_check)\u001b[0m\n\u001b[1;32m    433\u001b[0m         warnings\u001b[39m.\u001b[39mwarn(\n\u001b[1;32m    434\u001b[0m             \u001b[39mf\u001b[39m\u001b[39m\"\u001b[39m\u001b[39mYour action space has dtype \u001b[39m\u001b[39m{\u001b[39;00maction_space\u001b[39m.\u001b[39mdtype\u001b[39m}\u001b[39;00m\u001b[39m, we recommend using np.float32 to avoid cast errors.\u001b[39m\u001b[39m\"\u001b[39m\n\u001b[1;32m    435\u001b[0m         )\n\u001b[1;32m    437\u001b[0m \u001b[39m# ============ Check the returned values ===============\u001b[39;00m\n\u001b[0;32m--> 438\u001b[0m _check_returned_values(env, observation_space, action_space)\n\u001b[1;32m    440\u001b[0m \u001b[39m# ==== Check the render method and the declared render modes ====\u001b[39;00m\n\u001b[1;32m    441\u001b[0m \u001b[39mif\u001b[39;00m \u001b[39mnot\u001b[39;00m skip_render_check:\n",
      "File \u001b[0;32m~/anaconda3/envs/py310/lib/python3.10/site-packages/stable_baselines3/common/env_checker.py:275\u001b[0m, in \u001b[0;36m_check_returned_values\u001b[0;34m(env, observation_space, action_space)\u001b[0m\n\u001b[1;32m    273\u001b[0m             \u001b[39mraise\u001b[39;00m \u001b[39mAssertionError\u001b[39;00m(\u001b[39mf\u001b[39m\u001b[39m\"\u001b[39m\u001b[39mError while checking key=\u001b[39m\u001b[39m{\u001b[39;00mkey\u001b[39m}\u001b[39;00m\u001b[39m: \u001b[39m\u001b[39m\"\u001b[39m \u001b[39m+\u001b[39m \u001b[39mstr\u001b[39m(e)) \u001b[39mfrom\u001b[39;00m \u001b[39me\u001b[39;00m\n\u001b[1;32m    274\u001b[0m \u001b[39melse\u001b[39;00m:\n\u001b[0;32m--> 275\u001b[0m     _check_obs(obs, observation_space, \u001b[39m\"\u001b[39;49m\u001b[39mreset\u001b[39;49m\u001b[39m\"\u001b[39;49m)\n\u001b[1;32m    277\u001b[0m \u001b[39m# Sample a random action\u001b[39;00m\n\u001b[1;32m    278\u001b[0m action \u001b[39m=\u001b[39m action_space\u001b[39m.\u001b[39msample()\n",
      "File \u001b[0;32m~/anaconda3/envs/py310/lib/python3.10/site-packages/stable_baselines3/common/env_checker.py:195\u001b[0m, in \u001b[0;36m_check_obs\u001b[0;34m(obs, observation_space, method_name)\u001b[0m\n\u001b[1;32m    192\u001b[0m \u001b[39m# Additional checks for numpy arrays, so the error message is clearer (see GH#1399)\u001b[39;00m\n\u001b[1;32m    193\u001b[0m \u001b[39mif\u001b[39;00m \u001b[39misinstance\u001b[39m(obs, np\u001b[39m.\u001b[39mndarray):\n\u001b[1;32m    194\u001b[0m     \u001b[39m# check obs dimensions, dtype and bounds\u001b[39;00m\n\u001b[0;32m--> 195\u001b[0m     \u001b[39massert\u001b[39;00m observation_space\u001b[39m.\u001b[39mshape \u001b[39m==\u001b[39m obs\u001b[39m.\u001b[39mshape, (\n\u001b[1;32m    196\u001b[0m         \u001b[39mf\u001b[39m\u001b[39m\"\u001b[39m\u001b[39mThe observation returned by the `\u001b[39m\u001b[39m{\u001b[39;00mmethod_name\u001b[39m}\u001b[39;00m\u001b[39m()` method does not match the shape \u001b[39m\u001b[39m\"\u001b[39m\n\u001b[1;32m    197\u001b[0m         \u001b[39mf\u001b[39m\u001b[39m\"\u001b[39m\u001b[39mof the given observation space \u001b[39m\u001b[39m{\u001b[39;00mobservation_space\u001b[39m}\u001b[39;00m\u001b[39m. \u001b[39m\u001b[39m\"\u001b[39m\n\u001b[1;32m    198\u001b[0m         \u001b[39mf\u001b[39m\u001b[39m\"\u001b[39m\u001b[39mExpected: \u001b[39m\u001b[39m{\u001b[39;00mobservation_space\u001b[39m.\u001b[39mshape\u001b[39m}\u001b[39;00m\u001b[39m, actual shape: \u001b[39m\u001b[39m{\u001b[39;00mobs\u001b[39m.\u001b[39mshape\u001b[39m}\u001b[39;00m\u001b[39m\"\u001b[39m\n\u001b[1;32m    199\u001b[0m     )\n\u001b[1;32m    200\u001b[0m     \u001b[39massert\u001b[39;00m np\u001b[39m.\u001b[39mcan_cast(obs\u001b[39m.\u001b[39mdtype, observation_space\u001b[39m.\u001b[39mdtype), (\n\u001b[1;32m    201\u001b[0m         \u001b[39mf\u001b[39m\u001b[39m\"\u001b[39m\u001b[39mThe observation returned by the `\u001b[39m\u001b[39m{\u001b[39;00mmethod_name\u001b[39m}\u001b[39;00m\u001b[39m()` method does not match the data type (cannot cast) \u001b[39m\u001b[39m\"\u001b[39m\n\u001b[1;32m    202\u001b[0m         \u001b[39mf\u001b[39m\u001b[39m\"\u001b[39m\u001b[39mof the given observation space \u001b[39m\u001b[39m{\u001b[39;00mobservation_space\u001b[39m}\u001b[39;00m\u001b[39m. \u001b[39m\u001b[39m\"\u001b[39m\n\u001b[1;32m    203\u001b[0m         \u001b[39mf\u001b[39m\u001b[39m\"\u001b[39m\u001b[39mExpected: \u001b[39m\u001b[39m{\u001b[39;00mobservation_space\u001b[39m.\u001b[39mdtype\u001b[39m}\u001b[39;00m\u001b[39m, actual dtype: \u001b[39m\u001b[39m{\u001b[39;00mobs\u001b[39m.\u001b[39mdtype\u001b[39m}\u001b[39;00m\u001b[39m\"\u001b[39m\n\u001b[1;32m    204\u001b[0m     )\n\u001b[1;32m    205\u001b[0m     \u001b[39mif\u001b[39;00m \u001b[39misinstance\u001b[39m(observation_space, spaces\u001b[39m.\u001b[39mBox):\n",
      "\u001b[0;31mAssertionError\u001b[0m: The observation returned by the `reset()` method does not match the shape of the given observation space Box(-inf, inf, (10,), float32). Expected: (10,), actual shape: (12,)"
     ]
    }
   ],
   "source": [
    "\n",
    "#initate env\n",
    "env = FlorianPortfolioEnv(df=train, **env_kwargs)\n",
    "check_env(env, warn=True)"
   ]
  },
  {
   "cell_type": "code",
   "execution_count": null,
   "metadata": {},
   "outputs": [],
   "source": [
    "#EvalCallback: Evaluate periodically the performance of an agent, using a separate test environment. It will save the best model if best_model_save_path folder is specified and save the evaluations results in a numpy archive (evaluations.npz) if log_path folder is specified.\n",
    "eval_callback = EvalCallback(eval_env=env, best_model_save_path=\"./logs/\", eval_freq=500, deterministic=True, render=False)\n",
    "progress_callback = ProgressBarCallback()\n",
    "params_callback = HParamCallback()\n"
   ]
  },
  {
   "cell_type": "code",
   "execution_count": null,
   "metadata": {},
   "outputs": [],
   "source": [
    "#Chaining Callbacks\n",
    "callbacks = CallbackList([eval_callback,progress_callback, params_callback ])"
   ]
  },
  {
   "cell_type": "code",
   "execution_count": null,
   "metadata": {},
   "outputs": [],
   "source": [
    "\n",
    "#Define and Train the agend\n",
    "model = A2C('MlpPolicy', env, verbose=0, tensorboard_log=\"./tensorboard/a2c_florian/\")\n",
    "model.learn(total_timesteps=500000, callback=callbacks, tb_log_name=\"a2c_florian_any_name\")\n",
    "# Once the learn function is called, you can monitor the RL agent during or after the training, with the following bash command:\n",
    "# tensorboard --logdir ./a2c_cartpole_tensorboard/"
   ]
  },
  {
   "cell_type": "code",
   "execution_count": null,
   "metadata": {},
   "outputs": [],
   "source": []
  }
 ],
 "metadata": {
  "kernelspec": {
   "display_name": "py310",
   "language": "python",
   "name": "python3"
  },
  "language_info": {
   "codemirror_mode": {
    "name": "ipython",
    "version": 3
   },
   "file_extension": ".py",
   "mimetype": "text/x-python",
   "name": "python",
   "nbconvert_exporter": "python",
   "pygments_lexer": "ipython3",
   "version": "3.10.11"
  },
  "orig_nbformat": 4
 },
 "nbformat": 4,
 "nbformat_minor": 2
}
